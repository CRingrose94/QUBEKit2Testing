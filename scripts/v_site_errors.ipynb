{
 "cells": [
  {
   "cell_type": "code",
   "execution_count": null,
   "metadata": {
    "collapsed": true
   },
   "outputs": [],
   "source": [
    "\n",
    "site_data = {\n",
    "    # mol: atom name, n_sites, no_site_esp, with_site_esp\n",
    "    1: [], 2: ['O1', 2, 1.6828, 0.7426, 'O2', 2, 1.6792, 0.7321], 3: ['O1', 2, 2.4185, 0.1314], 4: [], 5: [],\n",
    "    6: [], 7: [], 8: ['O1', 2, 2.1448, 0.2178, 'O2', 2, 2.1161, 0.2092], 9: ['O2', 2, 1.0324, 0.1044],\n",
    "    10: ['N1', 2, 1.9135, 0.1676, 'O1', 2, 1.681, 0.759], 11: [], 12: [],\n",
    "    13: ['O1', 2, 1.6595, 0.7337, 'O2', 2, 1.6591, 0.7601], 14: [], 15: [], 16: ['O1', 2, 1.4364, 0.7658],\n",
    "    17: [], 18: [], 19: [], 20: [], 21: ['N1', 1, 2.2125, 1.0861], 22: ['N1', 1, 2.396, 1.088],\n",
    "    23: ['O1', 2, 1.7215, 0.7293, 'O2', 2, 1.6157, 0.8688], 24: ['N2', 2, 1.9162, 0.6856],\n",
    "    25: ['N2', 1, 2.1936, 0.2389], 26: ['N1', 1, 1.8095, 1.2346],\n",
    "    27: ['N1', 1, 2.1928, 0.2108, 'N2', 2, 2.2369, 0.537], 28: ['O1', 2, 1.6694, 0.0939],\n",
    "    29: ['O2', 2, 1.8482, 0.0635], 30: ['N1', 1, 2.1257, 0.13, 'N2', 2, 2.1284, 0.5177],\n",
    "    31: ['O2', 2, 1.7444, 0.0631], 32: ['N2', 1, 1.9495, 0.3023, 'N3', 1, 2.2953, 0.1278],\n",
    "    33: ['N2', 1, 2.2114, 0.2666], 34: [], 35: [], 36: ['N1', 1, 2.0655, 0.0755, 'N2', 1, 2.0618, 0.0758],\n",
    "    37: ['N1', 1, 2.3207, 0.1307], 38: ['O1', 2, 1.7466, 0.9106, 'O2', 2, 1.7318, 0.8225],\n",
    "    39: ['O1', 2, 1.7889, 0.1968, 'O2', 2, 1.7445, 0.2203],\n",
    "    40: ['O1', 2, 1.5282, 0.7806, 'O2', 2, 1.7262, 0.7838], 41: [],\n",
    "    42: ['O1', 2, 1.6857, 0.7699, 'O2', 2, 1.6584, 0.8759],\n",
    "    43: ['O1', 2, 1.6348, 0.7108, 'O2', 2, 1.4758, 0.6752, 'O3', 2, 1.6047, 0.9104],\n",
    "    44: ['N1', 2, 2.0976, 0.1534, 'N2', 1, 1.8212, 0.9408, 'N3', 2, 1.9486, 1.0642, 'N4', 2, 1.9398, 0.715],\n",
    "    45: ['N1', 2, 2.2713, 1.223, 'N2', 2, 1.9493, 0.2113], 46: [],\n",
    "    47: ['O1', 2, 1.3301, 0.5675, 'O2', 2, 1.1163, 0.7405],\n",
    "    48: ['O1', 2, 1.6045, 0.7357, 'C2', 1, 1.2162, 0.1686, 'C3', 1, 1.2132, 0.1691, 'O2', 2, 1.6096, 0.7243],\n",
    "    49: ['N1', 1, 2.6651, 0.2341, 'N2', 1, 2.4206, 0.3118], 50: [],\n",
    "    51: ['N1', 1, 1.7574, 0.1394, 'N2', 2, 1.7439, 0.1913],\n",
    "    52: ['O1', 2, 1.5963, 0.7764, 'O2', 2, 1.6723, 0.8864], 53: []\n",
    "}"
   ]
  },
  {
   "cell_type": "code",
   "execution_count": null,
   "outputs": [],
   "source": [
    "smiles = {\n",
    "    1: 'CCC#N', 2: 'C(CO)O', 3: 'C1CCOC1', 4: 'CN(C)C=O', 5: 'C1CCCCC1', 6: 'CC(=O)CC1=CC=CC=C1', 7: 'C(=O)N',\n",
    "    8: 'C1COCO1', 9: 'CC(=O)OC(=O)C', 10: 'NCCO', 11: 'CCC(=O)CC', 12: 'CCCCCC', 13: 'C(CO)CO', 14: 'C=CC=O',\n",
    "    15: 'CC1=CC=CC=C1C', 16: 'CCC(CC)O', 17: 'c1ccccc1', 18: 'CCCCCCC', 19: 'CCCCCCCC', 20: 'CCCCCCCCCC',\n",
    "    21: 'CCCCNCCCC', 22: 'C1CCNCC1', 23: 'OCCCCCO', 24: 'CN(C)CCCN', 25: 'CCn1ccnc1', 26: 'CN=C=O',\n",
    "    27: 'CN(C)CCCN(C)C', 28: 'N#Cc1ccco1', 29: 'O=Cc1ccoc1', 30: 'CN1CCN(C)CC1', 31: 'CC(=O)c1ccco1',\n",
    "    32: 'c1cn2ccnc2cn1', 33: 'CCCCn1ccnc1', 34: 'CC(=O)CCC=C(C)C', 35: 'c1ccc2ccccc2c1', 36: 'c1ccc2nccnc2c1',\n",
    "    37: 'CC(C)(C)c1ccncc1', 38: 'OCCCCCCCO', 39: 'Cc1ccc2c(c1)OCO2', 40: 'OCCCCCCCCO', 41: 'CCCCC(=O)CCCC',\n",
    "    42: 'OCCCCO', 43: 'OCC(O)CO', 44: 'NCCNCCNCCN', 45: 'CNCCCN', 46: 'CC(=O)c1ccc(C)cc1',\n",
    "    47: 'CC(C)(O)CCC(C)(C)O', 48: 'OCC#CCO', 49: 'Cc1cccnn1', 50: 'Cc1ccc(C)n1C', 51: 'CCN(CC)CCCN',\n",
    "    52: 'OCCCCCCO', 53: 'O=C1CCc2ccccc2C1'\n",
    "}"
   ],
   "metadata": {
    "collapsed": false,
    "pycharm": {
     "name": "#%%\n"
    }
   }
  },
  {
   "cell_type": "code",
   "execution_count": null,
   "outputs": [],
   "source": [
    "import pandas as pd\n",
    "from rdkit.Chem import MolFromSmiles\n",
    "\n",
    "mols = [MolFromSmiles(mol) for mol in smiles.values()]\n",
    "d = {'molecules': mols, 'ESP data': list(site_data.values())}\n",
    "df = pd.DataFrame(data=d)\n",
    "df.index += 1"
   ],
   "metadata": {
    "collapsed": false,
    "pycharm": {
     "name": "#%%\n"
    }
   }
  }
 ],
 "metadata": {
  "kernelspec": {
   "display_name": "Python 3",
   "language": "python",
   "name": "python3"
  },
  "language_info": {
   "codemirror_mode": {
    "name": "ipython",
    "version": 2
   },
   "file_extension": ".py",
   "mimetype": "text/x-python",
   "name": "python",
   "nbconvert_exporter": "python",
   "pygments_lexer": "ipython2",
   "version": "2.7.6"
  }
 },
 "nbformat": 4,
 "nbformat_minor": 0
}